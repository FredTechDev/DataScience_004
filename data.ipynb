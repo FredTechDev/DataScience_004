{
 "cells": [
  {
   "cell_type": "code",
   "execution_count": 1,
   "metadata": {},
   "outputs": [],
   "source": [
    "# FIFA 21 Data Wrangling - Comments\n",
    "# 1️⃣ Load CSV\n",
    "# Load the raw FIFA 21 dataset into a Pandas DataFrame.\n",
    "# Rename special columns (like '↓OVA') for easier reference and consistency.\n",
    "\n",
    "# 2️⃣ Clean categorical/text columns\n",
    "# Target columns: Name, LongName, Nationality, Club, Positions, Preferred Foot, Best Position.\n",
    "# - Strip leading/trailing spaces.\n",
    "# - Standardize capitalization using str.title().\n",
    "# - Fill missing values with 'Unknown' to prevent errors in analysis.\n",
    "\n",
    "# 3️⃣ Clean numeric columns\n",
    "# Target numeric columns: OVA, POT, Age, PHY, PAC, SHO, PAS, DRI, DEF.\n",
    "# - Convert all values to numeric.\n",
    "# - Replace invalid or non-numeric entries with NaN.\n",
    "\n",
    "# 4️⃣ Convert monetary columns (Value, Wage)\n",
    "# - Remove currency symbols (€) and letters (M for million, K for thousand).\n",
    "# - Convert strings to floats.\n",
    "# - Multiply M by 1,000,000 and K by 1,000 to get actual numbers.\n",
    "# This allows accurate calculations and Tableau visualizations.\n",
    "\n",
    "# 5️⃣ Drop rows missing critical numeric info\n",
    "# Essential columns: OVA, POT, Age.\n",
    "# Drop any rows with missing values in these columns to ensure accurate analysis.\n",
    "\n",
    "# 6️⃣ Remove unrealistic values\n",
    "# Filter out impossible or extreme values:\n",
    "# - OVA > 0\n",
    "# - POT > 0\n",
    "# - Age between 16 and 49\n",
    "# This ensures that only valid player records remain.\n",
    "\n",
    "# 7️⃣ Add calculated fields\n",
    "# - Value_per_OVA: Player market value divided by overall rating to measure investment efficiency.\n",
    "# - Wage_per_OVA: Player wage divided by overall rating to measure wage efficiency.\n",
    "# - Age_Group: Categorize players into age groups for analysis (16-20, 21-25, 26-30, 31+).\n",
    "\n",
    "# 8️⃣ Save cleaned CSV\n",
    "# Export the cleaned DataFrame to 'fifa21_cleaned.csv'.\n",
    "# This CSV can now be loaded directly into Tableau for dashboards.\n",
    "\n",
    "# 9️⃣ Return cleaned DataFrame\n",
    "# Returning df allows further analysis in Python or quick visualization before Tableau.\n"
   ]
  }
 ],
 "metadata": {
  "kernelspec": {
   "display_name": "Python 3",
   "language": "python",
   "name": "python3"
  },
  "language_info": {
   "codemirror_mode": {
    "name": "ipython",
    "version": 3
   },
   "file_extension": ".py",
   "mimetype": "text/x-python",
   "name": "python",
   "nbconvert_exporter": "python",
   "pygments_lexer": "ipython3",
   "version": "3.11.8"
  }
 },
 "nbformat": 4,
 "nbformat_minor": 2
}
